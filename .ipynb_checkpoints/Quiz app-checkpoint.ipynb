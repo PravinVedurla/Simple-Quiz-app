{
 "cells": [
  {
   "cell_type": "code",
   "execution_count": 1,
   "metadata": {},
   "outputs": [],
   "source": [
    "import pandas as pd"
   ]
  },
  {
   "cell_type": "code",
   "execution_count": 3,
   "metadata": {},
   "outputs": [
    {
     "data": {
      "text/html": [
       "<div>\n",
       "<style scoped>\n",
       "    .dataframe tbody tr th:only-of-type {\n",
       "        vertical-align: middle;\n",
       "    }\n",
       "\n",
       "    .dataframe tbody tr th {\n",
       "        vertical-align: top;\n",
       "    }\n",
       "\n",
       "    .dataframe thead th {\n",
       "        text-align: right;\n",
       "    }\n",
       "</style>\n",
       "<table border=\"1\" class=\"dataframe\">\n",
       "  <thead>\n",
       "    <tr style=\"text-align: right;\">\n",
       "      <th></th>\n",
       "      <th>Question</th>\n",
       "      <th>option1</th>\n",
       "      <th>option2</th>\n",
       "      <th>option3</th>\n",
       "      <th>option4</th>\n",
       "      <th>answer</th>\n",
       "    </tr>\n",
       "  </thead>\n",
       "  <tbody>\n",
       "    <tr>\n",
       "      <th>0</th>\n",
       "      <td>Where's the Eiffel Tower?</td>\n",
       "      <td>Spain</td>\n",
       "      <td>India</td>\n",
       "      <td>France</td>\n",
       "      <td>China</td>\n",
       "      <td>3.0</td>\n",
       "    </tr>\n",
       "    <tr>\n",
       "      <th>1</th>\n",
       "      <td>Where's the Taj Mahal?</td>\n",
       "      <td>China</td>\n",
       "      <td>India</td>\n",
       "      <td>Germany</td>\n",
       "      <td>Egypt</td>\n",
       "      <td>2.0</td>\n",
       "    </tr>\n",
       "    <tr>\n",
       "      <th>2</th>\n",
       "      <td>Who has been appointed as acting Chairman UPSC</td>\n",
       "      <td>ArvindSaxena</td>\n",
       "      <td>Sudha Jain</td>\n",
       "      <td>KirtiKumar</td>\n",
       "      <td>OmiAgarwal</td>\n",
       "      <td>1.0</td>\n",
       "    </tr>\n",
       "    <tr>\n",
       "      <th>3</th>\n",
       "      <td>India's first police museum will establish in ...</td>\n",
       "      <td>chennai</td>\n",
       "      <td>Delhi</td>\n",
       "      <td>Nagpur</td>\n",
       "      <td>Kolkata</td>\n",
       "      <td>2.0</td>\n",
       "    </tr>\n",
       "    <tr>\n",
       "      <th>4</th>\n",
       "      <td>The Yarlung ZangboRiver in India,known as?</td>\n",
       "      <td>Ganga</td>\n",
       "      <td>Indus</td>\n",
       "      <td>Brahmaputra</td>\n",
       "      <td>Mahanadi</td>\n",
       "      <td>3.0</td>\n",
       "    </tr>\n",
       "  </tbody>\n",
       "</table>\n",
       "</div>"
      ],
      "text/plain": [
       "                                            Question       option1  \\\n",
       "0                          Where's the Eiffel Tower?         Spain   \n",
       "1                             Where's the Taj Mahal?         China   \n",
       "2     Who has been appointed as acting Chairman UPSC  ArvindSaxena   \n",
       "3  India's first police museum will establish in ...       chennai   \n",
       "4         The Yarlung ZangboRiver in India,known as?        Ganga    \n",
       "\n",
       "      option2      option3     option4  answer  \n",
       "0       India       France       China     3.0  \n",
       "1       India      Germany       Egypt     2.0  \n",
       "2  Sudha Jain   KirtiKumar  OmiAgarwal     1.0  \n",
       "3       Delhi       Nagpur     Kolkata     2.0  \n",
       "4       Indus  Brahmaputra    Mahanadi     3.0  "
      ]
     },
     "execution_count": 3,
     "metadata": {},
     "output_type": "execute_result"
    }
   ],
   "source": [
    "df = pd.read_csv('questions.csv')\n",
    "df.head(5)"
   ]
  },
  {
   "cell_type": "code",
   "execution_count": 5,
   "metadata": {},
   "outputs": [
    {
     "data": {
      "text/plain": [
       "1    Where's the Taj Mahal?\n",
       "Name: Question, dtype: object"
      ]
     },
     "execution_count": 5,
     "metadata": {},
     "output_type": "execute_result"
    }
   ],
   "source": [
    "df[1:2]['Question']"
   ]
  },
  {
   "cell_type": "code",
   "execution_count": 6,
   "metadata": {},
   "outputs": [
    {
     "name": "stdout",
     "output_type": "stream",
     "text": [
      "[\"Where's the Eiffel Tower?\"]\n",
      "[\"Where's the Taj Mahal?\"]\n",
      "[' Who has been appointed as acting Chairman UPSC']\n",
      "[\"India's first police museum will establish in which city?\"]\n",
      "['The Yarlung ZangboRiver in India,known as?']\n",
      "['The Salal Project on the river?']\n",
      "['The oldest dynasty still ruling in which country?']\n",
      "['World day of water on which following dates?']\n",
      "['What is the statutory Ratio at at present']\n",
      "['Which of the following is not an endocrine gland?']\n"
     ]
    }
   ],
   "source": [
    "for i in range(10): \n",
    "    print(df['Question'][i:i+1].values)"
   ]
  },
  {
   "cell_type": "code",
   "execution_count": 45,
   "metadata": {},
   "outputs": [],
   "source": [
    "def quiz(df):\n",
    "    score = 0\n",
    "    name = input(\"Enter your name: \")\n",
    "    print(name + \", Are you ready for a round of 10 questions?\")\n",
    "    t1 = input(\"Y/N? : \")\n",
    "    if (t1 == 'y' or t1 == 'Y'):\n",
    "        for i in range(10):\n",
    "            print(df['Question'][i:i+1].values)\n",
    "            print(\"(1)\" + df['option1'][i:i+1] + \" (2)\" + df['option2'][i:i+1] + \" (3)\" + df['option3'][i:i+1] + \" (4)\" + df['option4'][i:i+1])\n",
    "            t2 = float(input(\"Enter your option (0-4): \"))\n",
    "            \n",
    "            if (t2 == df['answer'][i:i+1].values):\n",
    "                score = score + 1\n",
    "                print(\"Congrats \" + name + \"! Your Answer is Correct. Score = \" + str(score))\n",
    "            else:\n",
    "                print(\"That was an incorrect answer. Score = \" + str(score))\n",
    "            \n",
    "            t3 = input(\"Next question? (y/n): \")\n",
    "            if(t3 == 'y' or t3 == 'Y'):\n",
    "                continue\n",
    "            else:\n",
    "                break\n",
    "        "
   ]
  },
  {
   "cell_type": "code",
   "execution_count": null,
   "metadata": {},
   "outputs": [
    {
     "name": "stdout",
     "output_type": "stream",
     "text": [
      "Enter your name: poo\n",
      "poo, Are you ready for a round of 10 questions?\n",
      "Y/N? : y\n",
      "[\"Where's the Eiffel Tower?\"]\n",
      "0    (1)Spain (2)India (3)France (4)China\n",
      "dtype: object\n",
      "Enter your option (0-4): 3\n",
      "Congrats poo! Your Answer is Correct. Score = 1\n",
      "Next question? (y/n): y\n",
      "[\"Where's the Taj Mahal?\"]\n",
      "1    (1)China (2)India (3)Germany (4)Egypt\n",
      "dtype: object\n",
      "Enter your option (0-4): 2\n",
      "Congrats poo! Your Answer is Correct. Score = 2\n",
      "Next question? (y/n): y\n",
      "[' Who has been appointed as acting Chairman UPSC']\n",
      "2    (1)ArvindSaxena (2)Sudha Jain (3)KirtiKumar (4...\n",
      "dtype: object\n",
      "Enter your option (0-4): 1\n",
      "Congrats poo! Your Answer is Correct. Score = 3\n",
      "Next question? (y/n): y\n",
      "[\"India's first police museum will establish in which city?\"]\n",
      "3    (1)chennai (2)Delhi (3)Nagpur (4)Kolkata\n",
      "dtype: object\n",
      "Enter your option (0-4): 2\n",
      "Congrats poo! Your Answer is Correct. Score = 4\n"
     ]
    }
   ],
   "source": [
    "quiz(df)"
   ]
  },
  {
   "cell_type": "code",
   "execution_count": 32,
   "metadata": {},
   "outputs": [
    {
     "name": "stdout",
     "output_type": "stream",
     "text": [
      "y\n",
      "y\n"
     ]
    }
   ],
   "source": [
    "u = input()\n",
    "print(u)"
   ]
  },
  {
   "cell_type": "code",
   "execution_count": 42,
   "metadata": {},
   "outputs": [
    {
     "data": {
      "text/plain": [
       "9    4.0\n",
       "Name: answer, dtype: float64"
      ]
     },
     "execution_count": 42,
     "metadata": {},
     "output_type": "execute_result"
    }
   ],
   "source": [
    "df['answer'][i:i+1]"
   ]
  },
  {
   "cell_type": "code",
   "execution_count": null,
   "metadata": {},
   "outputs": [],
   "source": []
  }
 ],
 "metadata": {
  "kernelspec": {
   "display_name": "Python 3",
   "language": "python",
   "name": "python3"
  },
  "language_info": {
   "codemirror_mode": {
    "name": "ipython",
    "version": 3
   },
   "file_extension": ".py",
   "mimetype": "text/x-python",
   "name": "python",
   "nbconvert_exporter": "python",
   "pygments_lexer": "ipython3",
   "version": "3.7.3"
  }
 },
 "nbformat": 4,
 "nbformat_minor": 2
}
